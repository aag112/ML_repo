{
  "nbformat": 4,
  "nbformat_minor": 0,
  "metadata": {
    "colab": {
      "name": "PredictOfficeSpacePrice.ipynb",
      "provenance": [],
      "authorship_tag": "ABX9TyPirdRnFZfOGOqfwPJFV8N3"
    },
    "kernelspec": {
      "name": "python3",
      "display_name": "Python 3"
    },
    "language_info": {
      "name": "python"
    }
  },
  "cells": [
    {
      "cell_type": "code",
      "metadata": {
        "id": "8orYzoorN_2z"
      },
      "source": [
        "from sklearn import linear_model\n",
        "from sklearn.preprocessing import PolynomialFeatures\n",
        "import numpy as np"
      ],
      "execution_count": null,
      "outputs": []
    },
    {
      "cell_type": "code",
      "metadata": {
        "id": "YOFviNBBN6KS"
      },
      "source": [
        "# Set data\n",
        "features, rows = map(int, input().split())\n",
        "X, Y = [], []\n",
        "\n",
        "# Get the parameters X and Y for discovery the variables a and b\n",
        "for i in range(rows):\n",
        "    x = [0]\n",
        "    elements = list(map(float, input().split()))\n",
        "    for j in range(len(elements)):\n",
        "        if j < features:\n",
        "            x.append(elements[j])\n",
        "        else:\n",
        "            Y.append(elements[j])\n",
        "    X.append(x)\n",
        "\n",
        "# Set Polynomial Features\n",
        "poly = PolynomialFeatures(degree=3)\n",
        "\n",
        "# Set the model LinearRegression\n",
        "model = linear_model.LinearRegression()\n",
        "model.fit(poly.fit_transform(np.array(X)), Y)\n",
        "\n",
        "# Get the parameters X for discovery the Y\n",
        "new_rows = int(input())\n",
        "new_X = []\n",
        "for i in range(new_rows):\n",
        "    x = [0]\n",
        "    elements = list(map(float, input().split()))\n",
        "    for j in range(len(elements)):\n",
        "        x.append(elements[j])\n",
        "    new_X.append(x)\n",
        "\n",
        "# Gets the result and show on the screen\n",
        "result = model.predict(poly.fit_transform(np.array(new_X)))\n",
        "for i in range(len(result)):\n",
        "    print(round(result[i],2))"
      ],
      "execution_count": null,
      "outputs": []
    }
  ]
}